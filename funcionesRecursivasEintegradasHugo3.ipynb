{
 "cells": [
  {
   "cell_type": "code",
   "execution_count": null,
   "metadata": {},
   "outputs": [],
   "source": [
    "def ContarAtras(segundos):\n",
    "    segundos -= 1\n",
    "    if segundos >= 0:\n",
    "        print(segundos)\n",
    "        ContarAtras(segundos)\n",
    "    else:\n",
    "        print(\"Termino la cuenta regresiva\")\n",
    "    "
   ]
  },
  {
   "cell_type": "code",
   "execution_count": null,
   "metadata": {},
   "outputs": [],
   "source": [
    "ContarAtras(int(input(\"ingresa un numero: \")))"
   ]
  },
  {
   "cell_type": "code",
   "execution_count": null,
   "metadata": {},
   "outputs": [],
   "source": [
    "def Octal(cantidad):\n",
    "    return oct(cantidad)\n",
    "    \n",
    "def Binario(cantidad):\n",
    "    return bin(cantidad)\n",
    "\n",
    "def Hexadecimal(cantidad):\n",
    "    return hex(cantidad)\n",
    "\n",
    "def Absoluto(cantidad):\n",
    "    return abs(cantidad)\n",
    "\n",
    "def default():\n",
    "    return \"Opcion Invalida\"\n",
    "\n",
    "def convertir(valor,cantidad):\n",
    "    sw = {\n",
    "        1: Octal(cantidad),\n",
    "        2: Hexadecimal(cantidad),\n",
    "        3: Absoluto(cantidad),\n",
    "        4: Binario(cantidad),\n",
    "\n",
    "    }\n",
    "    return sw.get(valor, default())\n",
    "\n",
    "def menu():\n",
    "   print(\"----------- Conversor -----------\")\n",
    "   print(\"1. Octal\")\n",
    "   print(\"2. Hexa\")\n",
    "   print(\"3. Absoluto\")\n",
    "   print(\"4. Binario\")\n",
    "   print(\"-----------------------------------\")\n"
   ]
  },
  {
   "cell_type": "code",
   "execution_count": null,
   "metadata": {},
   "outputs": [],
   "source": [
    "menu()\n",
    "valor = int(input(\"Seleccione una opcion: \"))\n",
    "a = int(input(\"Valor a convertir: \"))\n",
    "print(convertir(valor, a))"
   ]
  },
  {
   "cell_type": "code",
   "execution_count": null,
   "metadata": {},
   "outputs": [],
   "source": [
    "round(5.5)"
   ]
  },
  {
   "cell_type": "code",
   "execution_count": null,
   "metadata": {},
   "outputs": [],
   "source": [
    "round(5.4)"
   ]
  },
  {
   "cell_type": "code",
   "execution_count": null,
   "metadata": {},
   "outputs": [],
   "source": [
    "nombre = \"Marcos Vladimir Vasto Carrasco\"\n",
    "\n",
    "len(nombre.replace(\" \",\"\"))"
   ]
  },
  {
   "cell_type": "code",
   "execution_count": null,
   "metadata": {},
   "outputs": [],
   "source": [
    "help()"
   ]
  },
  {
   "cell_type": "code",
   "execution_count": null,
   "metadata": {},
   "outputs": [],
   "source": []
  }
 ],
 "metadata": {
  "kernelspec": {
   "display_name": "Python 3",
   "language": "python",
   "name": "python3"
  },
  "language_info": {
   "codemirror_mode": {
    "name": "ipython",
    "version": 3
   },
   "file_extension": ".py",
   "mimetype": "text/x-python",
   "name": "python",
   "nbconvert_exporter": "python",
   "pygments_lexer": "ipython3",
   "version": "3.9.2"
  }
 },
 "nbformat": 4,
 "nbformat_minor": 4
}
