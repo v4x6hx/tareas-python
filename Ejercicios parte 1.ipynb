{
 "cells": [
  {
   "cell_type": "markdown",
   "metadata": {},
   "source": [
    "# Ejercicio 1\n",
    "## Definir una función max() que tome como argumento dos números y devuelva el mayor de ellos."
   ]
  },
  {
   "cell_type": "code",
   "execution_count": null,
   "metadata": {},
   "outputs": [],
   "source": [
    "def maximo(a=None,b=None):\n",
    "    if(a == None and b == None):\n",
    "        print(\"Tienes que ingresar un valor\")\n",
    "    elif(a<b):\n",
    "        print(\"{} < {}\".format(a,b))\n",
    "    elif(a>b):\n",
    "        print(\"{} > {}\".format(a,b))\n",
    "    elif(a==b):\n",
    "        print(\"{} = {}\".format(a,b))\n"
   ]
  },
  {
   "cell_type": "code",
   "execution_count": null,
   "metadata": {},
   "outputs": [],
   "source": [
    "maximo(1099,1099)"
   ]
  },
  {
   "cell_type": "markdown",
   "metadata": {},
   "source": [
    "# Ejercicio 2\n",
    "## Definir una función max_de_tres(), que tome tres números como argumentos y devuelva el mayor de ellos"
   ]
  },
  {
   "cell_type": "code",
   "execution_count": null,
   "metadata": {},
   "outputs": [],
   "source": [
    "def max_de_tres(a=None,b=None,c=None):\n",
    "    if(a == None and b == None and c == None):\n",
    "        print(\"Debes ingresar un valor\")\n",
    "    elif(a>b and a>c):\n",
    "        #print(\"{} es mayor que {} y que {}\".format(a,b,c))\n",
    "        print(\"{}\".format(a))\n",
    "    elif(b>a and b>c):\n",
    "        #print(\"{} es mayor que {} y que {}\".format(b,a,c))\n",
    "        print(\"{}\".format(b))\n",
    "    elif(c>a and c>b):\n",
    "        #print(\"{} es mayor que {} y que {}\".format(c,a,b))\n",
    "        print(\"{}\".format(c))"
   ]
  },
  {
   "cell_type": "code",
   "execution_count": null,
   "metadata": {},
   "outputs": [],
   "source": [
    "max_de_tres(1132,136,666)"
   ]
  },
  {
   "cell_type": "markdown",
   "metadata": {},
   "source": [
    "# Ejercicio 3\n",
    "## Definir una función que calcule la longitud de una lista o una cadena dada."
   ]
  },
  {
   "cell_type": "code",
   "execution_count": null,
   "metadata": {},
   "outputs": [],
   "source": [
    "def contarElementos(xt=None):\n",
    "    if(xt == None):\n",
    "        print(\"Ingresar el valor solicitado\")\n",
    "    else:\n",
    "        b=0\n",
    "        for x in xt:\n",
    "            b+=1\n",
    "        return b"
   ]
  },
  {
   "cell_type": "code",
   "execution_count": null,
   "metadata": {},
   "outputs": [],
   "source": [
    "print(\"Esta es una cadena o 'string'\")\n",
    "contarElementos(\"hola mundo\")"
   ]
  },
  {
   "cell_type": "code",
   "execution_count": null,
   "metadata": {},
   "outputs": [],
   "source": [
    "print(\"Esta es una lista\")\n",
    "contarElementos([1,\"\",2,\"Hola mundo\",4,5])"
   ]
  },
  {
   "cell_type": "markdown",
   "metadata": {},
   "source": [
    "# Ejercicio 4\n",
    "## Escribir una función que tome un carácter y devuelva True si es una vocal, de lo contrario devuelve False"
   ]
  },
  {
   "cell_type": "code",
   "execution_count": null,
   "metadata": {},
   "outputs": [],
   "source": [
    "def vocales(vo=None):\n",
    "    if(vo==None):\n",
    "        print(\"Tienes que ingresar una letra\")\n",
    "    else:\n",
    "        lv = [\"a\",\"e\",\"i\",\"o\",\"u\"]\n",
    "        v = False\n",
    "        for c in lv:\n",
    "            if c.lower() == vo.lower():\n",
    "                v = True\n",
    "    return v"
   ]
  },
  {
   "cell_type": "code",
   "execution_count": null,
   "metadata": {},
   "outputs": [],
   "source": [
    "vocales(str(input(\"selecciona una letra: \")))"
   ]
  },
  {
   "cell_type": "markdown",
   "metadata": {},
   "source": [
    "# Ejercicio 5\n",
    "## Escribir una función sum() y una función multip() que sumen y multipliquen respectivamente todos los números de una lista\n",
    "Por ejemplo: sum([1,2,3,4]) debería devolver 10 y multip([1,2,3,4]) debería devolver 24"
   ]
  },
  {
   "cell_type": "code",
   "execution_count": null,
   "metadata": {},
   "outputs": [],
   "source": [
    "def sumar(elem=None):\n",
    "    if(elem == None):\n",
    "        print(\"No se permiten valores nulos!\")\n",
    "    else:\n",
    "        b=0\n",
    "        for x in elem:\n",
    "            b += x\n",
    "        return b\n",
    "\n",
    "def multp(elem=None):\n",
    "    if(elem==None):\n",
    "        print(\"No puedes multiplicar un campo vacio!\")\n",
    "    else:\n",
    "        b = 1\n",
    "        for s in elem:\n",
    "            b *= s\n",
    "        return(b)"
   ]
  },
  {
   "cell_type": "code",
   "execution_count": null,
   "metadata": {},
   "outputs": [],
   "source": [
    "f = range(1,5)\n",
    "print(list(f))"
   ]
  },
  {
   "cell_type": "code",
   "execution_count": null,
   "metadata": {},
   "outputs": [],
   "source": [
    "sumar(f)"
   ]
  },
  {
   "cell_type": "code",
   "execution_count": null,
   "metadata": {},
   "outputs": [],
   "source": [
    "multp(f)"
   ]
  },
  {
   "cell_type": "markdown",
   "metadata": {},
   "source": [
    "# Ejercicio 6\n",
    "## Definir una función inversa() que calcule la inversión de una cadena\n",
    "Por ejemplo la cadena \"estoy probando\" debería devolver la cadena \"odnaborp yotse\""
   ]
  },
  {
   "cell_type": "code",
   "execution_count": null,
   "metadata": {},
   "outputs": [],
   "source": [
    "def inversa(var):\n",
    "    print(var[::-1])"
   ]
  },
  {
   "cell_type": "code",
   "execution_count": null,
   "metadata": {},
   "outputs": [],
   "source": [
    "inversa(\"Buenas noches que agradable velada\")"
   ]
  },
  {
   "cell_type": "markdown",
   "metadata": {},
   "source": [
    "# Ejercicio 7\n",
    "## Definir una función es_palindromo() que reconoce palíndromos (es decir, palabras que tienen el mismo aspecto escritas invertidas)\n",
    "Ejemplo: es_palindromo (\"radar\") tendría que devolver True"
   ]
  },
  {
   "cell_type": "code",
   "execution_count": null,
   "metadata": {},
   "outputs": [],
   "source": [
    "def es_palindromo(value):\n",
    "    f = False\n",
    "    if(value.lower() == value[::-1].lower()):\n",
    "        f = True\n",
    "    return f"
   ]
  },
  {
   "cell_type": "code",
   "execution_count": null,
   "metadata": {},
   "outputs": [],
   "source": [
    "es_palindromo(\"Radar\")"
   ]
  },
  {
   "cell_type": "markdown",
   "metadata": {},
   "source": [
    "# Ejercicio 8\n",
    "## Definir una función superposicion() que tome dos listas y devuelva True si tienen al menos 1 miembro en común o devuelva False de lo contrario\n",
    "Hint: Escribir la función usando el bucle for anidado"
   ]
  },
  {
   "cell_type": "code",
   "execution_count": null,
   "metadata": {},
   "outputs": [],
   "source": [
    "def superposicion(*lxy):\n",
    "    b = False\n",
    "    lr = []\n",
    "    for m0 in lxy[0]:\n",
    "        if m0 in lxy[1]:\n",
    "            lr.append(m0)\n",
    "            b = True\n",
    "    return b, lr"
   ]
  },
  {
   "cell_type": "code",
   "execution_count": null,
   "metadata": {},
   "outputs": [],
   "source": [
    "lx,ly = [1,2,3,7,8,9,10,4,5,6],[8,9,10,11,12,1,13]\n",
    "respuesta = superposicion(lx,ly)\n",
    "print(respuesta[0])"
   ]
  },
  {
   "cell_type": "code",
   "execution_count": null,
   "metadata": {},
   "outputs": [],
   "source": [
    "if(respuesta[0] == True):\n",
    "    print(\"\"\"Si hay elementos repetidos\\nCOINCIDENCIAS\\t{}\"\"\".format(respuesta[1]))\n",
    "else:\n",
    "    print(\"No hay elementos repetidos\")"
   ]
  },
  {
   "cell_type": "markdown",
   "metadata": {},
   "source": [
    "# Ejercicio 9\n",
    "## Definir una función generar_n_caracteres() que tome un entero n y devuelva el caracter multiplicado por n\n",
    "Por ejemplo: generar_n_caracteres(5, \"x\") debería devolver \"xxxxx\""
   ]
  },
  {
   "cell_type": "code",
   "execution_count": null,
   "metadata": {},
   "outputs": [],
   "source": [
    "def generar_n_caracteres(x,y):\n",
    "    errores = []\n",
    "    if(isinstance(x,int)):\n",
    "        pass\n",
    "    else:\n",
    "        errores.append(1)\n",
    "    if(isinstance(y,str)):\n",
    "        pass\n",
    "    else:\n",
    "        errores.append(1)\n",
    "    if(errores == []):\n",
    "        print(x*y)\n",
    "    else:\n",
    "        print(errores)"
   ]
  },
  {
   "cell_type": "code",
   "execution_count": null,
   "metadata": {},
   "outputs": [],
   "source": [
    "generar_n_caracteres(5,\"x\")"
   ]
  },
  {
   "cell_type": "markdown",
   "metadata": {},
   "source": [
    "# Ejercicio 10\n",
    "## Definir un histograma procedimiento() que tome una lista de números enteros e imprima un histograma en la pantalla"
   ]
  },
  {
   "cell_type": "markdown",
   "metadata": {},
   "source": [
    "Ejemplo: procedimiento([4, 9, 7]) debería imprimir lo siguiente:\n",
    "\n",
    "<br>****\n",
    "<br>*********\n",
    "<br>*******"
   ]
  },
  {
   "cell_type": "code",
   "execution_count": null,
   "metadata": {},
   "outputs": [],
   "source": [
    "def procedimiento(*listas):\n",
    "    for x in listas:\n",
    "        for n in x:\n",
    "            #print(n)\n",
    "            print(n*\"*\")"
   ]
  },
  {
   "cell_type": "code",
   "execution_count": null,
   "metadata": {},
   "outputs": [],
   "source": [
    "procedimiento([10,20],[30,40],[50],[60])"
   ]
  }
 ],
 "metadata": {
  "kernelspec": {
   "display_name": "Python 3",
   "language": "python",
   "name": "python3"
  },
  "language_info": {
   "codemirror_mode": {
    "name": "ipython",
    "version": 3
   },
   "file_extension": ".py",
   "mimetype": "text/x-python",
   "name": "python",
   "nbconvert_exporter": "python",
   "pygments_lexer": "ipython3",
   "version": "3.9.2"
  }
 },
 "nbformat": 4,
 "nbformat_minor": 4
}
