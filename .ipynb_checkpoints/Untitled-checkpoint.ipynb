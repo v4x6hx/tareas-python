{
 "cells": [
  {
   "cell_type": "code",
   "execution_count": 4,
   "metadata": {},
   "outputs": [
    {
     "data": {
      "text/plain": [
       "deque([])"
      ]
     },
     "execution_count": 4,
     "metadata": {},
     "output_type": "execute_result"
    }
   ],
   "source": [
    "from collections import deque\n",
    "colas = deque()\n",
    "colas\n"
   ]
  },
  {
   "cell_type": "code",
   "execution_count": 10,
   "metadata": {},
   "outputs": [
    {
     "data": {
      "text/plain": [
       "dict"
      ]
     },
     "execution_count": 10,
     "metadata": {},
     "output_type": "execute_result"
    }
   ],
   "source": [
    "colas = deque([{'Nombre':'Abdiel','Apellido':'Vasto'},0,1969,'H'])\n",
    "type(colas[0])"
   ]
  },
  {
   "cell_type": "code",
   "execution_count": 6,
   "metadata": {},
   "outputs": [
    {
     "data": {
      "text/plain": [
       "int"
      ]
     },
     "execution_count": 6,
     "metadata": {},
     "output_type": "execute_result"
    }
   ],
   "source": [
    "type(colas[1])"
   ]
  },
  {
   "cell_type": "code",
   "execution_count": 7,
   "metadata": {},
   "outputs": [
    {
     "data": {
      "text/plain": [
       "str"
      ]
     },
     "execution_count": 7,
     "metadata": {},
     "output_type": "execute_result"
    }
   ],
   "source": [
    "type(colas[3])"
   ]
  },
  {
   "cell_type": "code",
   "execution_count": 11,
   "metadata": {},
   "outputs": [
    {
     "name": "stdout",
     "output_type": "stream",
     "text": [
      "{'Nombre': 'Abdiel', 'Apellido': 'Vasto'}\n",
      "0\n",
      "1969\n",
      "H\n",
      "\n",
      "\n"
     ]
    },
    {
     "data": {
      "text/plain": [
       "'Abdiel'"
      ]
     },
     "execution_count": 11,
     "metadata": {},
     "output_type": "execute_result"
    }
   ],
   "source": [
    "for a in colas:\n",
    "    print(a)\n",
    "print('\\n')\n",
    "\n",
    "colas[0]['Nombre']"
   ]
  },
  {
   "cell_type": "code",
   "execution_count": 12,
   "metadata": {},
   "outputs": [
    {
     "name": "stdout",
     "output_type": "stream",
     "text": [
      "bienvenido vamos a practicar con un mini programa en python\n",
      "hostname : v4u17-420\n",
      "ipa : 192.168.100.2\n",
      "ipadd 192.168.100.2\n"
     ]
    }
   ],
   "source": [
    "import ipaddress\n",
    "import socket\n",
    "import publicip\n",
    "hostname = socket.gethostname()\n",
    "ipa = socket.gethostbyname(hostname)\n",
    "ipadd = ipaddress.ip_address(ipa)\n",
    "print('bienvenido vamos a practicar con un mini programa en python')\n",
    "\n",
    "info = deque(['Marcelino Knighten','username',{\"Status\":1,\"Hostname\":hostname, \"IP\":int(ipadd), \"Castigo\":0, \"PIN\":\"000999\"},'Vasto',\"México\",'Nezahualcyotl','La perla',57820, 4875420])\n",
    "seguridad = 0\n",
    "estadoDeCuenta = {0:\"inactiva\",1:\"activada\",2:\"suspendida\"}\n",
    "print(\"hostname :\", hostname)\n",
    "print(\"ipa :\", ipa)\n",
    "print(\"ipadd\", ipadd)\n",
    "listaIpes = []\n",
    "\n"
   ]
  },
  {
   "cell_type": "code",
   "execution_count": 13,
   "metadata": {},
   "outputs": [
    {
     "name": "stdout",
     "output_type": "stream",
     "text": [
      "ingrese su nobre de usuario para continuar.\n",
      "Escribe para finalizar.\n",
      "Intentos: 0\n"
     ]
    },
    {
     "name": "stdin",
     "output_type": "stream",
     "text": [
      "Ingresa tu codigo PIN  000999\n"
     ]
    },
    {
     "name": "stdout",
     "output_type": "stream",
     "text": [
      "¡Correcto !\n",
      "0\n"
     ]
    }
   ],
   "source": [
    "#Cajero\n",
    "a = 1\n",
    "s = 0\n",
    "mensaje = 'Vuelve a intentarlo por favor'\n",
    "print ('ingrese su nobre de usuario para continuar.')\n",
    "print ('Escribe para finalizar.')\n",
    "if (info[2][\"Status\"] == 'suspendida'):\n",
    "    print('Tu cuenta presenta un bloqueo por favor intenta mas tarde')\n",
    "while a != 'salir':\n",
    "    print ('Intentos:', s)\n",
    "    a = input('Ingresa tu codigo PIN ')\n",
    "    s += 1\n",
    "    if (a == info[2][\"PIN\"]):\n",
    "        print('¡Correcto !')\n",
    "        break\n",
    "    elif(s == 3):\n",
    "        print(mensaje)\n",
    "        seguridad += 1\n",
    "        if (seguridad == 3):\n",
    "            print('Demasiados intentos fallidos, intenta mas tarde')\n",
    "            info[2][\"Status\"] = 2\n",
    "            info[2][\"Castigo\"] = 60*1\n",
    "        break\n",
    "if (a == 'salir'):\n",
    "    print (a)\n",
    "print(seguridad)"
   ]
  },
  {
   "cell_type": "code",
   "execution_count": null,
   "metadata": {},
   "outputs": [],
   "source": [
    "info"
   ]
  },
  {
   "cell_type": "code",
   "execution_count": null,
   "metadata": {},
   "outputs": [],
   "source": [
    "estadoDeCuenta[info[2][\"Status\"]]"
   ]
  },
  {
   "cell_type": "code",
   "execution_count": null,
   "metadata": {},
   "outputs": [],
   "source": [
    "info[2][\"IP\"]"
   ]
  },
  {
   "cell_type": "code",
   "execution_count": null,
   "metadata": {},
   "outputs": [],
   "source": [
    "int(info[2][\"IP\"])"
   ]
  },
  {
   "cell_type": "code",
   "execution_count": null,
   "metadata": {},
   "outputs": [],
   "source": [
    "ipadd.is_loopback"
   ]
  },
  {
   "cell_type": "code",
   "execution_count": null,
   "metadata": {},
   "outputs": [],
   "source": [
    "ipc = ipaddress.ip_address(3794067923)"
   ]
  },
  {
   "cell_type": "code",
   "execution_count": null,
   "metadata": {},
   "outputs": [],
   "source": [
    "ipc"
   ]
  },
  {
   "cell_type": "code",
   "execution_count": null,
   "metadata": {},
   "outputs": [],
   "source": [
    "publicip.get()"
   ]
  },
  {
   "cell_type": "code",
   "execution_count": null,
   "metadata": {},
   "outputs": [],
   "source": [
    "listaIpes"
   ]
  },
  {
   "cell_type": "code",
   "execution_count": null,
   "metadata": {},
   "outputs": [],
   "source": [
    "cant = int(input('Cuantos lenguajes de programacion dominas?'))\n",
    "listaLenguajes = []\n",
    "a = 0\n",
    "while a != cant:\n",
    "    for i in range(cant):\n",
    "        a += 1\n",
    "        i += 1\n",
    "        listaLenguajes.append(input(f'Valor # {i}'))"
   ]
  },
  {
   "cell_type": "code",
   "execution_count": null,
   "metadata": {},
   "outputs": [],
   "source": [
    "import random\n",
    "listaLenguajes"
   ]
  },
  {
   "cell_type": "code",
   "execution_count": null,
   "metadata": {},
   "outputs": [],
   "source": [
    "\n",
    "random.randint(0,10)"
   ]
  }
 ],
 "metadata": {
  "kernelspec": {
   "display_name": "Python 3",
   "language": "python",
   "name": "python3"
  },
  "language_info": {
   "codemirror_mode": {
    "name": "ipython",
    "version": 3
   },
   "file_extension": ".py",
   "mimetype": "text/x-python",
   "name": "python",
   "nbconvert_exporter": "python",
   "pygments_lexer": "ipython3",
   "version": "3.9.2"
  }
 },
 "nbformat": 4,
 "nbformat_minor": 4
}
