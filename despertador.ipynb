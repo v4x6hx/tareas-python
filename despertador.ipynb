{
 "cells": [
  {
   "cell_type": "markdown",
   "metadata": {},
   "source": [
    "# Ejercicio 1.1\n",
    "### Algunas personas controlan el tiempo con un reloj de 24hrs (11 son las 11:00am y 23 son las 11:00pm,0 es la media noche). Si actualmente son las 13:00hrs y configuras tu alarma para que suene dentro de 50hrs, seran las 15 (3:00pm).\n",
    "Escribe un programa en Python para resolver la version general del problema anterior. Preguntale al usuario la hora actual(en horas) y lluego preguntale el numero de horas que debe esperar la alarma.\n",
    "Su programa debe de mostra cual sera la hora en el reloj cuando suene la alarma."
   ]
  },
  {
   "cell_type": "code",
   "execution_count": null,
   "metadata": {},
   "outputs": [],
   "source": [
    "import datetime\n",
    "\n",
    "def despertador():\n",
    "    x = datetime.datetime.now()\n",
    "    hora_tarea = datetime.time(13,00,00)\n",
    "    fecha_ = x.strftime(\"%x\")\n",
    "    try:\n",
    "        b = \"Utilizaremos la hora asignada {}hrs con la fecha actual {}\".format(hora_tarea,fecha_)\n",
    "        #print(b)\n",
    "        seleccion_usuario = int(input(\"en cuantas horas debe de iniciar la alarma?\"))\n",
    "        #print(\"Horas seleccionadas:\",seleccion_usuario)\n",
    "        hora_compuesta = datetime.datetime(x.year, x.month, x.day,13,00,00)\n",
    "        print(hora_compuesta)\n",
    "        resultado = hora_compuesta + timedelta(hours=seleccion_usuario)\n",
    "        print(resultado)\n",
    "    except:\n",
    "        print(\"ingresala cantidad de horas en formato numerico ejemplo: 12\")"
   ]
  },
  {
   "cell_type": "code",
   "execution_count": null,
   "metadata": {},
   "outputs": [],
   "source": [
    "despertador()"
   ]
  }
 ],
 "metadata": {
  "kernelspec": {
   "display_name": "Python 3",
   "language": "python",
   "name": "python3"
  },
  "language_info": {
   "codemirror_mode": {
    "name": "ipython",
    "version": 3
   },
   "file_extension": ".py",
   "mimetype": "text/x-python",
   "name": "python",
   "nbconvert_exporter": "python",
   "pygments_lexer": "ipython3",
   "version": "3.9.2"
  }
 },
 "nbformat": 4,
 "nbformat_minor": 4
}
